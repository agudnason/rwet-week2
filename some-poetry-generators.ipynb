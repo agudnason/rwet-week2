{
 "cells": [
  {
   "cell_type": "markdown",
   "metadata": {},
   "source": [
    "# Reading & Writing Electronic Text - Week 2\n",
    "\n",
    "By [Anna Gudnason](http://www.annagudnason.com/)\n",
    "\n",
    "This notebook has some Python implementations of a number of early and well-known poetry generators, including Knowles and Tenney's *A House of Dust*, Strachey's love letter generator and Nick Montfort's *Taroko Gorge*."
   ]
  },
  {
   "cell_type": "markdown",
   "metadata": {},
   "source": [
    "### Reordered Constitution Of The United States\n"
   ]
  },
  {
   "cell_type": "code",
   "execution_count": 11,
   "metadata": {},
   "outputs": [
    {
     "name": "stdout",
     "output_type": "stream",
     "text": [
      "common Union, establish our the the secure Blessings perfect\n",
      "and the do People this United provide defence, We domestic\n",
      "the the for ordain the Order a Liberty States to to\n",
      "Posterity, and in America. more of Tranquility, establish of\n",
      "of Constitution insure Justice, promote form general States,\n",
      "for ourselves Welfare, United and\n"
     ]
    }
   ],
   "source": [
    "import random\n",
    "import textwrap\n",
    "\n",
    "newspaper = \"\"\"\n",
    "We the People of the United States, \n",
    "in Order to form a more perfect Union, \n",
    "establish Justice, insure domestic Tranquility, \n",
    "provide for the common defence, promote the general Welfare, \n",
    "and secure the Blessings of Liberty to ourselves and our Posterity, \n",
    "do ordain and establish this Constitution for the United States of America.\"\"\"\n",
    "\n",
    "words = newspaper.split()\n",
    "random.shuffle(words)\n",
    "\n",
    "print(textwrap.fill(\" \".join(words), 60))"
   ]
  },
  {
   "cell_type": "markdown",
   "metadata": {},
   "source": [
    "\n",
    "### Random Short Fairy Tale Snippets\n"
   ]
  },
  {
   "cell_type": "code",
   "execution_count": 41,
   "metadata": {},
   "outputs": [],
   "source": [
    "import random"
   ]
  },
  {
   "cell_type": "code",
   "execution_count": 42,
   "metadata": {},
   "outputs": [],
   "source": [
    "characters = [\n",
    "    'a princess',\n",
    "    'a prince',\n",
    "    'the wizard',\n",
    "    'the wicked witch',\n",
    "    'Cinderella',\n",
    "    'snow white',\n",
    "    'the wolf',\n",
    "    'little red riding hood',\n",
    "    'the stepmother',\n",
    "    'the seven drawfs',\n",
    "    'Repunzel',\n",
    "    'the sorceress',\n",
    "    'the little mermaid',\n",
    "    'the two step sisters',\n",
    "    'the beast',\n",
    "    'the ugly ducking',\n",
    "    'the queen',\n",
    "    'the king',\n",
    "    'fairy godmother',\n",
    "    'Mulan',\n",
    "    'Alladin',\n",
    "]"
   ]
  },
  {
   "cell_type": "code",
   "execution_count": 43,
   "metadata": {},
   "outputs": [],
   "source": [
    "locations = [\n",
    "    'in a land far far away',\n",
    "    'in a forest',\n",
    "    'in a tiny cottage',\n",
    "    'in a castle',\n",
    "    'under the sea',\n",
    "    'in a little house',\n",
    "    \n",
    "]"
   ]
  },
  {
   "cell_type": "code",
   "execution_count": 44,
   "metadata": {},
   "outputs": [],
   "source": [
    "objects = [\n",
    "    'a poision apple',\n",
    "    'a magic mirror',\n",
    "    'a golden egg',\n",
    "    'a basket',\n",
    "    'a magic potion',\n",
    "    'a talking tea cup',\n",
    "    'a glass slipper',\n",
    "    'a magic carpet',\n",
    "    'the book of spells',\n",
    "]"
   ]
  },
  {
   "cell_type": "code",
   "execution_count": 45,
   "metadata": {},
   "outputs": [],
   "source": [
    "actions = [\n",
    "    'killed the wicked witch',\n",
    "    'turned into a prince',\n",
    "    'awoke from a deep sleep',\n",
    "    'became king',\n",
    "    'became a princess',\n",
    "    'went to the ball',\n",
    "    'let down her long hair',\n",
    "    'fell in love',\n",
    "    \n",
    "]"
   ]
  },
  {
   "cell_type": "code",
   "execution_count": 40,
   "metadata": {},
   "outputs": [
    {
     "name": "stdout",
     "output_type": "stream",
     "text": [
      "\n",
      "Once Upon A Time,\n",
      "snow white\n",
      "in a land far far away\n",
      "using a talking tea cup\n",
      "turned into a prince\n",
      "and they lived happily ever after\n",
      "\n",
      "Once Upon A Time,\n",
      "the seven drawfs\n",
      "in a land far far away\n",
      "using a golden egg\n",
      "killed the wicked witch\n",
      "and they lived happily ever after\n",
      "\n",
      "Once Upon A Time,\n",
      "the wicked witch\n",
      "in a forest\n",
      "using a poision apple\n",
      "let down her long hair\n",
      "and they lived happily ever after\n",
      "\n",
      "Once Upon A Time,\n",
      "a princess\n",
      "under the sea\n",
      "using a golden egg\n",
      "went to the ball\n",
      "and they lived happily ever after\n",
      "\n",
      "Once Upon A Time,\n",
      "a princess\n",
      "in a tiny cottage\n",
      "using a magic mirror\n",
      "let down her long hair\n",
      "and they lived happily ever after\n",
      "\n",
      "Once Upon A Time,\n",
      "the seven drawfs\n",
      "in a land far far away\n",
      "using a golden egg\n",
      "let down her long hair\n",
      "and they lived happily ever after\n",
      "\n",
      "Once Upon A Time,\n",
      "the sorceress\n",
      "in a land far far away\n",
      "using a magic potion\n",
      "killed the wicked witch\n",
      "and they lived happily ever after\n"
     ]
    }
   ],
   "source": [
    "stanza_count = 7\n",
    "for i in range(stanza_count):\n",
    "    print()\n",
    "    print(\"Once Upon A Time,\")\n",
    "    print(random.choice(characters))\n",
    "    print(\"\" + random.choice(locations))\n",
    "    print(\"using \" + random.choice(objects))\n",
    "    print(\"\" + random.choice(actions))\n",
    "    print(\"and they lived happily ever after\")"
   ]
  }
 ],
 "metadata": {
  "kernelspec": {
   "display_name": "Python 3",
   "language": "python",
   "name": "python3"
  },
  "language_info": {
   "codemirror_mode": {
    "name": "ipython",
    "version": 3
   },
   "file_extension": ".py",
   "mimetype": "text/x-python",
   "name": "python",
   "nbconvert_exporter": "python",
   "pygments_lexer": "ipython3",
   "version": "3.6.5"
  }
 },
 "nbformat": 4,
 "nbformat_minor": 2
}
